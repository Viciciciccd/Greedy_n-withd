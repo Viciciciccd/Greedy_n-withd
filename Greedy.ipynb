{
 "cells": [
  {
   "cell_type": "markdown",
   "metadata": {},
   "source": [
    "## Projet Greedy Algorithm, NAVARRE Victor CACHERA Alexandre"
   ]
  },
  {
   "cell_type": "markdown",
   "metadata": {},
   "source": [
    "### Modules"
   ]
  },
  {
   "cell_type": "code",
   "execution_count": null,
   "metadata": {},
   "outputs": [],
   "source": [
    "#Importation des librairies\n",
    "\n",
    "import numpy as np \n",
    "import matplotlib.pyplot as plt\n",
    "\n",
    "## PyMOR"
   ]
  },
  {
   "cell_type": "markdown",
   "metadata": {},
   "source": [
    "### Données "
   ]
  },
  {
   "cell_type": "code",
   "execution_count": null,
   "metadata": {},
   "outputs": [],
   "source": [
    "# Premier test\n",
    "t = np.linspace(0, 1, 100)\n",
    "K = np.linspace(0, 10, 100)\n",
    "F1 = [np.sin(k * t) for k in K]\n",
    "\n",
    "# Deuxième test "
   ]
  },
  {
   "cell_type": "markdown",
   "metadata": {},
   "source": [
    "### Algorithmes Gloutons"
   ]
  },
  {
   "cell_type": "markdown",
   "metadata": {},
   "source": [
    "#### Fonctions de base "
   ]
  },
  {
   "cell_type": "code",
   "execution_count": null,
   "metadata": {},
   "outputs": [],
   "source": [
    "def proj(f, Vn):\n",
    "\n",
    "    V = np.column_stack(Vn) \n",
    "    coeffs, _, _, _ = np.linalg.lstsq(V, f, rcond=None)\n",
    "    proj = V @ coeffs\n",
    "    return proj\n",
    "\n",
    "from scipy.optimize import minimize\n",
    "\n",
    "#Si la première méthode ne fonctionne pas :\n",
    "def proj2(f, V):\n",
    "    \"\"\"Projection sur V pour la norme L1 (approchée via optimisation).\"\"\"\n",
    "    A = np.column_stack(V)\n",
    "    def loss(x):\n",
    "        return np.linalg.norm(A @ x - f, ord=1)\n",
    "    res = minimize(loss, np.zeros(len(V)))\n",
    "    return A @ res.x\n",
    "\n",
    "def dist(f,Vn):\n",
    "    return(np.linalg.norm(f-proj(f,Vn)))"
   ]
  },
  {
   "cell_type": "markdown",
   "metadata": {},
   "source": [
    "#### Algorithme Strong Greedy"
   ]
  },
  {
   "cell_type": "code",
   "execution_count": null,
   "metadata": {},
   "outputs": [],
   "source": [
    "def stronggreedy(F, n):\n",
    "    \n",
    "    Vn=[]\n",
    "    Sigma = []\n",
    "    id_f0 = np.argmax([np.linalg.norm(f) for f in F]) \n",
    "    f0 = F[id_f0]\n",
    "    Vn.append(f0)           \n",
    "    Sigma.append(np.linalg.norm(f0))\n",
    "\n",
    "    for i in range(n):\n",
    "        id_f = np.argmax([dist(f, Vn) for f in F]) \n",
    "        f = F[id_f]\n",
    "        Sigma.append(dist(f,Vn))\n",
    "        Vn.append(f)            \n",
    "    \n",
    "    return (Vn, Sigma) "
   ]
  },
  {
   "cell_type": "markdown",
   "metadata": {},
   "source": [
    "#### Algorithme Weak Greedy"
   ]
  },
  {
   "cell_type": "markdown",
   "metadata": {},
   "source": [
    "On commence par décrire l'Algorithme Greedy faible pour les n-withd, on réalise une implémentation récursive"
   ]
  },
  {
   "cell_type": "code",
   "execution_count": null,
   "metadata": {},
   "outputs": [],
   "source": [
    "def weakgreedy(A, gamma, n, sample_size):\n",
    "    \n",
    "    Vn=[]\n",
    "    Sigma = []\n",
    "    id_f0 = np.argmax([np.linalg.norm(f) for f in F]) \n",
    "    f0 = F[id_f0]\n",
    "    Vn.append(f0)          \n",
    "    Sigma.append(np.linalg.norm(f0))\n",
    "    \n",
    "    for i in range(n):\n",
    "        \n",
    "        # On cherche une approximation de la distance maximale\n",
    "        sample_indices = np.random.choice(n, size=sample_size, replace=False)\n",
    "        sample_distances = []\n",
    "        \n",
    "        for idx in sample_indices:\n",
    "            f = F[idx]\n",
    "            sample_distances.append(dist(f,Vn))\n",
    "\n",
    "        current_max = np.max(sample_distances)\n",
    "\n",
    "        for f in A:   #ici premier choisi, sinon les tirer tous et choisir &léatoirement parmi les bons candidats\n",
    "            if dist(f,Vn) >= gamma*current_max:\n",
    "                Sigma.append(dist(f,Vn))\n",
    "                Vn.append(f)\n",
    "                break\n",
    "    return(Vn, Sigma)\n"
   ]
  },
  {
   "cell_type": "markdown",
   "metadata": {},
   "source": [
    "### Algorithme de PCA "
   ]
  },
  {
   "cell_type": "markdown",
   "metadata": {},
   "source": [
    "### Comparaison et Analyse des résultats"
   ]
  },
  {
   "cell_type": "markdown",
   "metadata": {},
   "source": [
    "### Conclusion\n"
   ]
  },
  {
   "cell_type": "markdown",
   "metadata": {},
   "source": []
  }
 ],
 "metadata": {
  "kernelspec": {
   "display_name": "base",
   "language": "python",
   "name": "python3"
  },
  "language_info": {
   "codemirror_mode": {
    "name": "ipython",
    "version": 3
   },
   "file_extension": ".py",
   "mimetype": "text/x-python",
   "name": "python",
   "nbconvert_exporter": "python",
   "pygments_lexer": "ipython3",
   "version": "3.12.7"
  }
 },
 "nbformat": 4,
 "nbformat_minor": 2
}
