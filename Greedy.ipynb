{
 "cells": [
  {
   "cell_type": "markdown",
   "metadata": {},
   "source": [
    "## Projet Greedy Algorithm, NAVARRE Victor CACHERA Alexandre"
   ]
  },
  {
   "cell_type": "code",
   "execution_count": null,
   "metadata": {},
   "outputs": [],
   "source": [
    "#Importation des librairies\n",
    "\n",
    "import numpy as np"
   ]
  },
  {
   "cell_type": "markdown",
   "metadata": {},
   "source": [
    "On commence par décrire l'Algorithme Greedy faible pour les n-withd, on réalise une implémentation récursive"
   ]
  },
  {
   "cell_type": "code",
   "execution_count": null,
   "metadata": {},
   "outputs": [],
   "source": [
    "def projection_orthogonale(f, Vn):\n",
    "\n",
    "    V = np.column_stack(Vn)  # Colonne = vecteur de base\n",
    "\n",
    "    coeffs, _, _, _ = np.linalg.lstsq(V, f, rcond=None)\n",
    "    proj = V @ coeffs\n",
    "    return proj\n",
    "\n",
    "def dist_to_span(f,Vn):\n",
    "    return(np.linalg.norm(f-projection_orthogonale(f,Vn)))\n"
   ]
  },
  {
   "cell_type": "code",
   "execution_count": 6,
   "metadata": {},
   "outputs": [],
   "source": [
    "def weakgreedy (A,lambd,n):\n",
    "    Vn=[]\n",
    "    Vn.append(max(np.linalg.norm(v) for v in A))             #On rajoute f0\n",
    "    Sigma_i=(max(dist(f,Vn) for f in A))\n",
    "    for i in range(n):\n",
    "        for f in range(len(A)):\n",
    "            if dist(f,Vn)>=lambd*Sigma_i:\n",
    "                Vn.append(f)\n",
    "                A.remove(f)\n",
    "                break\n",
    "    Sigma_n=(max(dist(f,Vn) for f in A))\n",
    "    return(\"Espace vectoriel engendrée\",Vn,\"Distance obtenue\",Sigma_n )\n"
   ]
  },
  {
   "cell_type": "markdown",
   "metadata": {},
   "source": [
    "Algorithme de PCA et autres algorithmes"
   ]
  },
  {
   "cell_type": "markdown",
   "metadata": {},
   "source": [
    "Différentes données"
   ]
  },
  {
   "cell_type": "markdown",
   "metadata": {},
   "source": [
    "Analyse des résultats"
   ]
  },
  {
   "cell_type": "markdown",
   "metadata": {},
   "source": [
    "Conclusion\n"
   ]
  }
 ],
 "metadata": {
  "kernelspec": {
   "display_name": "apprentissage_profond",
   "language": "python",
   "name": "python3"
  },
  "language_info": {
   "codemirror_mode": {
    "name": "ipython",
    "version": 3
   },
   "file_extension": ".py",
   "mimetype": "text/x-python",
   "name": "python",
   "nbconvert_exporter": "python",
   "pygments_lexer": "ipython3",
   "version": "3.10.13"
  }
 },
 "nbformat": 4,
 "nbformat_minor": 2
}
