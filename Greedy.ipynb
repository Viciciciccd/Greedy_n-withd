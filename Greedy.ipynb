{
 "cells": [
  {
   "cell_type": "markdown",
   "metadata": {},
   "source": [
    "## Projet Greedy Algorithm, NAVARRE Victor CACHERA Alexandre"
   ]
  },
  {
   "cell_type": "code",
   "execution_count": null,
   "metadata": {},
   "outputs": [],
   "source": [
    "#Importation des librairies\n",
    "\n",
    "import numpy as np "
   ]
  },
  {
   "cell_type": "markdown",
   "metadata": {},
   "source": [
    "On commence par décrire l'Algorithme Greedy faible pour les n-withd, on réalise une implémentation récursive"
   ]
  },
  {
   "cell_type": "code",
   "execution_count": null,
   "metadata": {},
   "outputs": [],
   "source": [
    "def dist(f,Vn):\n",
    "    return(min(np.linalg.norm(fi-f) for fi in Vn))\n"
   ]
  },
  {
   "cell_type": "code",
   "execution_count": null,
   "metadata": {},
   "outputs": [],
   "source": [
    "def weakgreedy (A,lambda,n):\n",
    "    Vn=[]\n",
    "    Vn.append(max(np.linalg.norm(v) for v in A))             #On rajoute f0\n",
    "    Sigma_i=(max(dist(f,Vn) for f in A))\n",
    "    for i in range(n):\n",
    "        for f in range(len(A)):\n",
    "            if dist(f,Vn)>=lambda*Sigma_i:\n",
    "                Vn.append(f)\n",
    "                A.remove(f)\n",
    "                break\n",
    "        \n",
    "\n",
    "\n",
    "\n",
    "    return (1)"
   ]
  }
 ],
 "metadata": {
  "kernelspec": {
   "display_name": "apprentissage_profond",
   "language": "python",
   "name": "python3"
  },
  "language_info": {
   "codemirror_mode": {
    "name": "ipython",
    "version": 3
   },
   "file_extension": ".py",
   "mimetype": "text/x-python",
   "name": "python",
   "nbconvert_exporter": "python",
   "pygments_lexer": "ipython3",
   "version": "3.10.13"
  }
 },
 "nbformat": 4,
 "nbformat_minor": 2
}
